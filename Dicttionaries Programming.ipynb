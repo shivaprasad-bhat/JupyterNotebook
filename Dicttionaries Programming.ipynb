{
 "cells": [
  {
   "cell_type": "code",
   "execution_count": 1,
   "metadata": {},
   "outputs": [],
   "source": [
    "# Count the cities having tempreature between 25 - 35 degree"
   ]
  },
  {
   "cell_type": "code",
   "execution_count": 2,
   "metadata": {},
   "outputs": [],
   "source": [
    "t = dict()"
   ]
  },
  {
   "cell_type": "code",
   "execution_count": 3,
   "metadata": {},
   "outputs": [],
   "source": [
    "t[\"bangalore\"] = 26\n",
    "t[\"pune\"] = 33\n",
    "t[\"shimla\"] = 12\n",
    "t[\"jaipur\"] = 20\n",
    "t[\"kerala\"] = 27\n",
    "t[\"chennai\"] = 36\n",
    "t[\"andhra\"] = 30\n",
    "t[\"sikkim\"] = 10\n",
    "t[\"dehli\"] = 15\n",
    "t[\"punjab\"] = 29"
   ]
  },
  {
   "cell_type": "code",
   "execution_count": 4,
   "metadata": {},
   "outputs": [
    {
     "data": {
      "text/plain": [
       "{'bangalore': 26,\n",
       " 'pune': 33,\n",
       " 'shimla': 12,\n",
       " 'jaipur': 20,\n",
       " 'kerala': 27,\n",
       " 'chennai': 36,\n",
       " 'andhra': 30,\n",
       " 'sikkim': 10,\n",
       " 'dehli': 15,\n",
       " 'punjab': 29}"
      ]
     },
     "execution_count": 4,
     "metadata": {},
     "output_type": "execute_result"
    }
   ],
   "source": [
    "t"
   ]
  },
  {
   "cell_type": "code",
   "execution_count": 5,
   "metadata": {},
   "outputs": [
    {
     "name": "stdout",
     "output_type": "stream",
     "text": [
      "5\n"
     ]
    }
   ],
   "source": [
    "c = 0\n",
    "for i in t:\n",
    "    if t.get(i) >= 25 and t.get(i) <= 35:\n",
    "        c += 1\n",
    "print(c)"
   ]
  },
  {
   "cell_type": "code",
   "execution_count": 8,
   "metadata": {},
   "outputs": [
    {
     "data": {
      "text/plain": [
       "5"
      ]
     },
     "execution_count": 8,
     "metadata": {},
     "output_type": "execute_result"
    }
   ],
   "source": [
    "c = 0\n",
    "for i in (t.values()):\n",
    "    if i >= 25 and i <= 35:\n",
    "        c += 1\n",
    "c"
   ]
  },
  {
   "cell_type": "code",
   "execution_count": 30,
   "metadata": {},
   "outputs": [],
   "source": [
    "# Consider the dictionaries having alphabet and values\n",
    "# Consider another string\n",
    "# Calculate the weight of the string, other characters, consider 0\n",
    "import random\n",
    "ch = 'a'\n",
    "w = dict()\n",
    "for i in range(0, 26):\n",
    "    w[ch] = random.randint(1, 100)\n",
    "    ch = chr(ord(ch) + 1)"
   ]
  },
  {
   "cell_type": "code",
   "execution_count": 31,
   "metadata": {},
   "outputs": [
    {
     "data": {
      "text/plain": [
       "1295"
      ]
     },
     "execution_count": 31,
     "metadata": {},
     "output_type": "execute_result"
    }
   ],
   "source": [
    "\n",
    "mystring = \"Hello there I am here to help you\"\n",
    "\n",
    "c = 0\n",
    "for i in mystring:\n",
    "    if i in w:\n",
    "        c = c + w.get(i)\n",
    "c"
   ]
  }
 ],
 "metadata": {
  "kernelspec": {
   "display_name": "Python 3",
   "language": "python",
   "name": "python3"
  },
  "language_info": {
   "codemirror_mode": {
    "name": "ipython",
    "version": 3
   },
   "file_extension": ".py",
   "mimetype": "text/x-python",
   "name": "python",
   "nbconvert_exporter": "python",
   "pygments_lexer": "ipython3",
   "version": "3.8.3"
  }
 },
 "nbformat": 4,
 "nbformat_minor": 4
}
