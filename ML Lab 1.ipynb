{
 "cells": [
  {
   "cell_type": "code",
   "execution_count": 2,
   "metadata": {},
   "outputs": [
    {
     "name": "stdout",
     "output_type": "stream",
     "text": [
      "Hello World!\n"
     ]
    }
   ],
   "source": [
    "# Print Statement\n",
    "print(\"Hello World!\")"
   ]
  },
  {
   "cell_type": "code",
   "execution_count": 5,
   "metadata": {},
   "outputs": [
    {
     "data": {
      "text/plain": [
       "'\\nMulti Line Comment 2\\n'"
      ]
     },
     "execution_count": 5,
     "metadata": {},
     "output_type": "execute_result"
    }
   ],
   "source": [
    "# Single Line comment\n",
    "'''\n",
    "Multi line comment 1\n",
    "'''\n",
    "\n",
    "\"\"\"\n",
    "Multi Line Comment 2\n",
    "\"\"\""
   ]
  },
  {
   "cell_type": "code",
   "execution_count": 8,
   "metadata": {},
   "outputs": [],
   "source": [
    "# variable Names\n",
    "# Variable name can only contain alpha-numeric characters and underscores (A-z, 0-9, and _ )\n",
    "# Start with name / underscore\n",
    "price = 10\n",
    "_name = \"Shivaprasad\""
   ]
  },
  {
   "cell_type": "code",
   "execution_count": 10,
   "metadata": {},
   "outputs": [
    {
     "name": "stdout",
     "output_type": "stream",
     "text": [
      "100 200\n"
     ]
    }
   ],
   "source": [
    "#•\tVariable names are case-sensitive (age, Age and AGE are three different variables)\n",
    "price = 100\n",
    "PRICE = 200\n",
    "print(price, PRICE)"
   ]
  },
  {
   "cell_type": "code",
   "execution_count": 11,
   "metadata": {},
   "outputs": [],
   "source": [
    "# With regards to variable names, what is camel casing, pascal casing and snake case?\n",
    "\n",
    "# camelCase\n",
    "userName = \"Shivaprasad\"\n",
    "\n",
    "# PascalCase\n",
    "HomeAddress = \"Neelmane, Muroor\"\n",
    "\n",
    "# snake_case\n",
    "is_admin = False"
   ]
  },
  {
   "cell_type": "code",
   "execution_count": 13,
   "metadata": {},
   "outputs": [
    {
     "name": "stdout",
     "output_type": "stream",
     "text": [
      "<class 'int'>\n",
      "<class 'float'>\n",
      "<class 'str'>\n",
      "<class 'list'>\n",
      "<class 'tuple'>\n",
      "<class 'dict'>\n"
     ]
    }
   ],
   "source": [
    "# Data Types\n",
    "x = 10\n",
    "y = 2.2\n",
    "z = \"Hello World\"\n",
    "l = [\"Name\", \"Email\", \"Password\"]\n",
    "t = (\"Name\", \"Email\", \"Password\")\n",
    "d = {\"name\":\"Shivaprasad\", \"age\": 25}\n",
    "\n",
    "print(type(x))\n",
    "print(type(y))\n",
    "print(type(z))\n",
    "print(type(l))\n",
    "print(type(t))\n",
    "print(type(d))"
   ]
  },
  {
   "cell_type": "code",
   "execution_count": 18,
   "metadata": {},
   "outputs": [
    {
     "name": "stdout",
     "output_type": "stream",
     "text": [
      "10.0\n",
      "10\n",
      "20\n",
      "20\n"
     ]
    }
   ],
   "source": [
    "# Casting from one to other\n",
    "intX = 10\n",
    "floatY = float(intX)\n",
    "print(floatY)\n",
    "\n",
    "convInt = int(floatY)\n",
    "print(convInt)\n",
    "\n",
    "s = 20\n",
    "s1 = str(s)\n",
    "print(s1)\n",
    "\n",
    "x = \"20\"\n",
    "i = int(x)\n",
    "print(i)\n"
   ]
  },
  {
   "cell_type": "code",
   "execution_count": 19,
   "metadata": {},
   "outputs": [
    {
     "name": "stdout",
     "output_type": "stream",
     "text": [
      "Shivaprasad Bhat\n"
     ]
    }
   ],
   "source": [
    "# Create a variable to store your name and print it.\n",
    "name = \"Shivaprasad Bhat\"\n",
    "print(name)"
   ]
  },
  {
   "cell_type": "code",
   "execution_count": 20,
   "metadata": {},
   "outputs": [],
   "source": [
    "name = \"MICHALE JACKSON\""
   ]
  },
  {
   "cell_type": "code",
   "execution_count": 21,
   "metadata": {},
   "outputs": [
    {
     "data": {
      "text/plain": [
       "'MCAEJCSN'"
      ]
     },
     "execution_count": 21,
     "metadata": {},
     "output_type": "execute_result"
    }
   ],
   "source": [
    "name[::2]"
   ]
  },
  {
   "cell_type": "code",
   "execution_count": 22,
   "metadata": {},
   "outputs": [
    {
     "data": {
      "text/plain": [
       "'MCA'"
      ]
     },
     "execution_count": 22,
     "metadata": {},
     "output_type": "execute_result"
    }
   ],
   "source": [
    "name[0:5:2]"
   ]
  },
  {
   "cell_type": "code",
   "execution_count": 23,
   "metadata": {},
   "outputs": [
    {
     "data": {
      "text/plain": [
       "15"
      ]
     },
     "execution_count": 23,
     "metadata": {},
     "output_type": "execute_result"
    }
   ],
   "source": [
    "len(name)"
   ]
  },
  {
   "cell_type": "code",
   "execution_count": 25,
   "metadata": {},
   "outputs": [
    {
     "name": "stdout",
     "output_type": "stream",
     "text": [
      "MICHALE JACKSONMICHALE JACKSONMICHALE JACKSON\n"
     ]
    }
   ],
   "source": [
    "name1 = name * 3\n",
    "print(name1)"
   ]
  },
  {
   "cell_type": "code",
   "execution_count": 27,
   "metadata": {},
   "outputs": [
    {
     "name": "stdout",
     "output_type": "stream",
     "text": [
      "michale jackson\n"
     ]
    }
   ],
   "source": [
    "name2 = name.lower()\n",
    "print(name2)"
   ]
  },
  {
   "cell_type": "code",
   "execution_count": 29,
   "metadata": {},
   "outputs": [
    {
     "name": "stdout",
     "output_type": "stream",
     "text": [
      "JANE JACKSON\n"
     ]
    }
   ],
   "source": [
    "name3 = name.replace(\"MICHALE\",\"JANE\")\n",
    "print(name3)"
   ]
  },
  {
   "cell_type": "code",
   "execution_count": 30,
   "metadata": {},
   "outputs": [
    {
     "name": "stdout",
     "output_type": "stream",
     "text": [
      "Apple Banana Cherry\n"
     ]
    }
   ],
   "source": [
    "fruits = [\"Apple\", \"Banana\", \"Cherry\"]\n",
    "x, y, z = fruits\n",
    "print(x, y, z)"
   ]
  },
  {
   "cell_type": "code",
   "execution_count": 31,
   "metadata": {},
   "outputs": [
    {
     "name": "stdout",
     "output_type": "stream",
     "text": [
      "Python is\n"
     ]
    }
   ],
   "source": [
    "x = \"Python is\"\n",
    "y = \"awesome\"\n",
    "z = x + y\n",
    "print(x)"
   ]
  },
  {
   "cell_type": "code",
   "execution_count": 32,
   "metadata": {},
   "outputs": [
    {
     "name": "stdout",
     "output_type": "stream",
     "text": [
      "['Hello', 10, 11.2]\n"
     ]
    }
   ],
   "source": [
    "listA = [\"Hello\", 10, 11.2]\n",
    "print(listA)"
   ]
  },
  {
   "cell_type": "code",
   "execution_count": 33,
   "metadata": {},
   "outputs": [
    {
     "name": "stdout",
     "output_type": "stream",
     "text": [
      "('Hello', 1, 1.1)\n"
     ]
    }
   ],
   "source": [
    "tupleA = (\"Hello\", 1, 1.1)\n",
    "print(tupleA)"
   ]
  },
  {
   "cell_type": "code",
   "execution_count": 35,
   "metadata": {},
   "outputs": [
    {
     "name": "stdout",
     "output_type": "stream",
     "text": [
      "X is 10\n"
     ]
    }
   ],
   "source": [
    "# Simple if\n",
    "x = 10\n",
    "\n",
    "if x == 10:\n",
    "    print(\"X is 10\")"
   ]
  },
  {
   "cell_type": "code",
   "execution_count": 36,
   "metadata": {},
   "outputs": [
    {
     "name": "stdout",
     "output_type": "stream",
     "text": [
      "X is not 10\n"
     ]
    }
   ],
   "source": [
    "# if else\n",
    "x = 20\n",
    "if x == 10:\n",
    "    print(\"X is 10\")\n",
    "else:\n",
    "    print(\"X is not 10\")"
   ]
  },
  {
   "cell_type": "code",
   "execution_count": 37,
   "metadata": {},
   "outputs": [
    {
     "name": "stdout",
     "output_type": "stream",
     "text": [
      "X is neither 20 nor 30\n"
     ]
    }
   ],
   "source": [
    "#if elif\n",
    "x = 10\n",
    "if x == 20:\n",
    "    print(\"X is 20\")\n",
    "elif x == 30:\n",
    "    print(\"X is 30\")\n",
    "else:\n",
    "    print(\"X is neither 20 nor 30\")"
   ]
  },
  {
   "cell_type": "code",
   "execution_count": 39,
   "metadata": {},
   "outputs": [
    {
     "name": "stdout",
     "output_type": "stream",
     "text": [
      "True\n",
      "False\n"
     ]
    }
   ],
   "source": [
    "# Logical AND\n",
    "x = 20\n",
    "y = 30\n",
    "if x == 20 and y == 30:\n",
    "    print(\"True\")\n",
    "    \n",
    "# Also this is possible\n",
    "print(x == 20 and y == 20)"
   ]
  },
  {
   "cell_type": "code",
   "execution_count": 41,
   "metadata": {},
   "outputs": [
    {
     "name": "stdout",
     "output_type": "stream",
     "text": [
      "True\n",
      "True\n"
     ]
    }
   ],
   "source": [
    "# Logical OR\n",
    "x = 20\n",
    "y = 30\n",
    "\n",
    "if x == 20 or y == 20:\n",
    "    print(\"True\")\n",
    "\n",
    "# Also this is possible too\n",
    "z = x == 20 or y == 10\n",
    "print(z)\n",
    "    "
   ]
  },
  {
   "cell_type": "code",
   "execution_count": 43,
   "metadata": {},
   "outputs": [
    {
     "name": "stdout",
     "output_type": "stream",
     "text": [
      "True\n",
      "False\n"
     ]
    }
   ],
   "source": [
    "# Logical Not\n",
    "weeks = [\"Sunday\", \"Monday\"]\n",
    "w = \"Tuesday\" not in weeks\n",
    "print(w)\n",
    "\n",
    "print(\"Saturday\" in weeks)"
   ]
  },
  {
   "cell_type": "code",
   "execution_count": 44,
   "metadata": {},
   "outputs": [
    {
     "name": "stdout",
     "output_type": "stream",
     "text": [
      "1\n",
      "2\n",
      "3\n",
      "4\n",
      "5\n",
      "6\n",
      "7\n",
      "8\n",
      "9\n",
      "10\n"
     ]
    }
   ],
   "source": [
    "# While Loop\n",
    "i = 1\n",
    "while i <= 10:\n",
    "    print(i)\n",
    "    i += 1"
   ]
  },
  {
   "cell_type": "code",
   "execution_count": 45,
   "metadata": {},
   "outputs": [
    {
     "name": "stdout",
     "output_type": "stream",
     "text": [
      "1\n",
      "2\n",
      "3\n",
      "4\n",
      "5\n",
      "6\n",
      "7\n",
      "8\n",
      "9\n",
      "10\n"
     ]
    }
   ],
   "source": [
    "# for loop\n",
    "for i in [1,2,3,4,5,6,7,8,9,10]:\n",
    "    print(i)"
   ]
  },
  {
   "cell_type": "code",
   "execution_count": null,
   "metadata": {},
   "outputs": [],
   "source": []
  }
 ],
 "metadata": {
  "kernelspec": {
   "display_name": "Python 3",
   "language": "python",
   "name": "python3"
  },
  "language_info": {
   "codemirror_mode": {
    "name": "ipython",
    "version": 3
   },
   "file_extension": ".py",
   "mimetype": "text/x-python",
   "name": "python",
   "nbconvert_exporter": "python",
   "pygments_lexer": "ipython3",
   "version": "3.8.3"
  }
 },
 "nbformat": 4,
 "nbformat_minor": 4
}
